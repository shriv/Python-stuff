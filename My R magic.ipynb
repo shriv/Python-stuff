{
 "metadata": {
  "name": "My R magic"
 },
 "nbformat": 3,
 "nbformat_minor": 0,
 "worksheets": [
  {
   "cells": [
    {
     "cell_type": "markdown",
     "metadata": {},
     "source": [
      "Integrating R with Python\n",
      "==========================\n",
      "\n",
      "- You can do this with rpy2 the rmagick extension. \n",
      "- R code can either by inline or within a cell of its own. \n",
      "- The following example: finding the activation energy of a semiconductor"
     ]
    },
    {
     "cell_type": "heading",
     "level": 3,
     "metadata": {},
     "source": [
      "Changing directories and importing required modules."
     ]
    },
    {
     "cell_type": "code",
     "collapsed": false,
     "input": [
      "%cd /home/shrividya/Documents/Dragonfly talk/Lots of data\n",
      "import os\n",
      "import glob\n",
      "%load_ext rmagic "
     ],
     "language": "python",
     "metadata": {},
     "outputs": [
      {
       "output_type": "stream",
       "stream": "stdout",
       "text": [
        "/home/shrividya/Documents/Dragonfly talk/Lots of data\n"
       ]
      }
     ],
     "prompt_number": 121
    },
    {
     "cell_type": "heading",
     "level": 3,
     "metadata": {},
     "source": [
      "Getting data from text files within folder and getting parameters from the filename e.g. temperature"
     ]
    },
    {
     "cell_type": "code",
     "collapsed": false,
     "input": [
      "V = numpy.arange(-10,11,1)\n",
      "I = []\n",
      "Temp = []\n",
      "names = []\n",
      "\n",
      "for name in glob.glob('CuO PL-5 run 4 I-V-06_10_2010_ 1*.txt'):\n",
      "    fid = open(name)\n",
      "    a = fid.read()\n",
      "    b = a.split(',')\n",
      "    if len(b) == len(V):\n",
      "        d = b[len(b)-1] \n",
      "        b[len(b)-1] = d[:-4]\n",
      "        I.append(b)\n",
      "        Temp.append(name[33:-4])\n",
      "        names.append(name)\n"
     ],
     "language": "python",
     "metadata": {},
     "outputs": [],
     "prompt_number": 3
    },
    {
     "cell_type": "heading",
     "level": 3,
     "metadata": {},
     "source": [
      "Re-arranging data"
     ]
    },
    {
     "cell_type": "code",
     "collapsed": false,
     "input": [
      "I_matrix = numpy.zeros((len(I[1]),len(I)))\n",
      "for i in range(len(I)):\n",
      "    I_matrix[:,i] = I[i]\n",
      "\n",
      "for i in range(len(I_matrix.T)):\n",
      "    I_matrix[:,i] = numpy.log(numpy.abs(I_matrix[:,i]))\n",
      "\n",
      "Temp = numpy.array(Temp,dtype='float')\n"
     ],
     "language": "python",
     "metadata": {},
     "outputs": [],
     "prompt_number": 35
    },
    {
     "cell_type": "heading",
     "level": 3,
     "metadata": {},
     "source": [
      "Plotting Data"
     ]
    },
    {
     "cell_type": "code",
     "collapsed": false,
     "input": [
      "X = 1.0/Temp\n",
      "Y = I_matrix[i,:]\n",
      "plot(X,Y,'wo')\n",
      "pylab.xlabel('T$^{-1}$ (K$^{-1}$)',fontsize=18)\n",
      "pylab.ylabel('ln(I)',fontsize=18)"
     ],
     "language": "python",
     "metadata": {},
     "outputs": [
      {
       "output_type": "pyout",
       "prompt_number": 134,
       "text": [
        "<matplotlib.text.Text at 0xd53b610>"
       ]
      },
      {
       "output_type": "display_data",
       "png": "[encoded data removed]"
      }
     ],
     "prompt_number": 134
    },
    {
     "cell_type": "code",
     "collapsed": false,
     "input": [
      "%R plot(X,Y)"
     ],
     "language": "python",
     "metadata": {},
     "outputs": [
      {
       "output_type": "display_data",
       "png": "[encoded data removed]"
      }
     ],
     "prompt_number": 132
    },
    {
     "cell_type": "heading",
     "level": 3,
     "metadata": {},
     "source": [
      "Fitting  linear data with numpy.polyfit (order=1) and the lm function in R"
     ]
    },
    {
     "cell_type": "code",
     "collapsed": false,
     "input": [
      "fits = []\n",
      "m_value = []\n",
      "c_value = []\n",
      "R_vals = []\n",
      "for i in range(len(I_matrix)):\n",
      "    m,c = numpy.polyfit(1.0/Temp,I_matrix[i,:],1)\n",
      "    Y = I_matrix[i,:]\n",
      "    X = 1.0/Temp\n",
      "    %R -i X,Y\n",
      "    %R a = summary(lm(Y~X))$coeff\n",
      "    %R -o a\n",
      "    R_vals.append(a)\n",
      "    fit = m*(1.0/Temp) + c\n",
      "    fits.append(fit)\n",
      "    m_value.append(m)\n",
      "    c_value.append(c)\n",
      " \n",
      "m = numpy.concatenate((m_value[0:10],m_value[11:]))\n",
      "m_eV = numpy.abs(2*m/(11604.5))\n",
      "mean_Eact = numpy.mean(m_eV)\n",
      "V_sub = numpy.concatenate((V[0:10],V[11:]))\n"
     ],
     "language": "python",
     "metadata": {},
     "outputs": [],
     "prompt_number": 119
    },
    {
     "cell_type": "heading",
     "level": 3,
     "metadata": {},
     "source": [
      "Plotting results from polyfit and lm"
     ]
    },
    {
     "cell_type": "code",
     "collapsed": false,
     "input": [
      "intercepts = []\n",
      "intercept_err = []\n",
      "\n",
      "gradients = []\n",
      "gradient_err = []\n",
      "for i in range(len(R_vals)):\n",
      "    intercepts.append(R_vals[i][0,0])\n",
      "    gradients.append(R_vals[i][1,0])\n",
      "    intercept_err.append(R_vals[i][0,1])\n",
      "    gradient_err.append(R_vals[i][1,1])\n",
      "\n",
      "## Convert from temperature to electron Volt ##\n",
      "gradients = numpy.abs((2*numpy.array((gradients)))/11604.5)\n",
      "gradient_err = (2*numpy.array((gradient_err)))/11604.5\n",
      "\n",
      "pylab.subplot(121)\n",
      "pylab.errorbar(V,gradients,yerr=gradient_err,fmt='o',alpha=0.5)\n",
      "pylab.ylim(0.52,0.58)\n",
      "pylab.xlim(-11,11)\n",
      "pylab.title('Fit with lm',fontsize=14)\n",
      "pylab.xlabel('Voltage (V)',fontsize=14)\n",
      "pylab.ylabel('Activation energy (eV)', fontsize=14)\n",
      "\n",
      "pylab.subplot(122)\n",
      "pylab.plot(V_sub,numpy.abs(m_eV),'ro',alpha=0.5)\n",
      "pylab.ylim(0.52,0.58)\n",
      "pylab.xlim(-11,11)\n",
      "pylab.title('Fit with polyfit',fontsize=14)\n",
      "pylab.xlabel('Voltage (V)',fontsize=14)"
     ],
     "language": "python",
     "metadata": {},
     "outputs": [
      {
       "output_type": "pyout",
       "prompt_number": 130,
       "text": [
        "<matplotlib.text.Text at 0xcf76ad0>"
       ]
      },
      {
       "output_type": "display_data",
       "png": "[encoded data removed]"
      }
     ],
     "prompt_number": 130
    },
    {
     "cell_type": "code",
     "collapsed": false,
     "input": [],
     "language": "python",
     "metadata": {},
     "outputs": [],
     "prompt_number": 121
    },
    {
     "cell_type": "code",
     "collapsed": false,
     "input": [],
     "language": "python",
     "metadata": {},
     "outputs": [],
     "prompt_number": 120
    },
    {
     "cell_type": "code",
     "collapsed": false,
     "input": [],
     "language": "python",
     "metadata": {},
     "outputs": []
    }
   ],
   "metadata": {}
  }
 ]
}